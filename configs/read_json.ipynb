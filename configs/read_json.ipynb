{
 "cells": [
  {
   "cell_type": "code",
   "execution_count": 29,
   "metadata": {},
   "outputs": [],
   "source": [
    "import json\n",
    "import pprint\n",
    "\n",
    "def preprocess_params(params_dict):\n",
    "    for params_key, params_value in params_dict.items():\n",
    "        if params_key == 'transform':\n",
    "            for transform_key, transform_value in params_value.items():\n",
    "                if type(transform_value) == list:\n",
    "                    params_dict[params_key][transform_key] = tuple(transform_value)\n",
    "        else:\n",
    "            if type(params_value) == list:\n",
    "                params_dict[params_key] = tuple(params_value)\n",
    "    return params_dict\n",
    "\n",
    "def read_json_config(file_path):\n",
    "    with open(file_path, \"r\") as file:\n",
    "        json_data = json.load(file)\n",
    "\n",
    "    model_type = json_data['model_type']\n",
    "    task = json_data['task']\n",
    "    paths = json_data['paths']\n",
    "    targets = json_data['targets']\n",
    "    params = json_data['params']\n",
    "    params = preprocess_params(params)\n",
    "    \n",
    "    return model_type, task, paths, targets, params"
   ]
  },
  {
   "cell_type": "code",
   "execution_count": 30,
   "metadata": {},
   "outputs": [
    {
     "name": "stdout",
     "output_type": "stream",
     "text": [
      "'one_stage_baseline'\n",
      "'one_stage_multi_wrd_ls'\n",
      "{'data_root_dir': '../image_data/',\n",
      " 'train_csv_file_path': './data/splitted/train.csv',\n",
      " 'val_csv_file_path': './data/splitted/valid.csv'}\n",
      "{'atelectasis': 13,\n",
      " 'cardiomegaly': 7,\n",
      " 'consolidation': 11,\n",
      " 'edema': 10,\n",
      " 'pleural_effusion': 15}\n",
      "{'batch_size': 128,\n",
      " 'confidence_threshold': 0.5,\n",
      " 'input_channels': 1,\n",
      " 'label_smoothing': 0.2,\n",
      " 'loss_fn': 'torch.nn.BCEWithLogitsLoss()',\n",
      " 'lr': 0.0001,\n",
      " 'metrics': ('accuracy',\n",
      "             'f1_score',\n",
      "             'precision',\n",
      "             'recall',\n",
      "             'confusion_matrix',\n",
      "             'auc',\n",
      "             'auroc',\n",
      "             'multilabel_accuracy',\n",
      "             'multilabel_auprc',\n",
      "             'multilabel_precision_recall_curve'),\n",
      " 'num_epochs': 100,\n",
      " 'num_workers': 22,\n",
      " 'optimizer': 'adam',\n",
      " 'save_epoch': 5,\n",
      " 'transform': {'brightness': (0.75, 1.25),\n",
      "               'contrast': (0.75, 1.25),\n",
      "               'degree_range': (-15, 15),\n",
      "               'gaussian_blur_kernel': 3,\n",
      "               'ratio': (0.75, 1.3333333333333333),\n",
      "               'resize': (256, 256),\n",
      "               'saturation': (0.75, 1.25),\n",
      "               'scale': (0.2, 1.0),\n",
      "               'translate': (0.1, 0.2)},\n",
      " 'use_weighted_sampler': True}\n"
     ]
    }
   ],
   "source": [
    "model_type, task, paths, targets, params = read_json_config(\"one_stage_baseline.json\")\n",
    "pprint.pprint(model_type)\n",
    "pprint.pprint(task)\n",
    "pprint.pprint(paths)\n",
    "pprint.pprint(targets)\n",
    "pprint.pprint(params)"
   ]
  }
 ],
 "metadata": {
  "kernelspec": {
   "display_name": ".venv",
   "language": "python",
   "name": "python3"
  },
  "language_info": {
   "codemirror_mode": {
    "name": "ipython",
    "version": 3
   },
   "file_extension": ".py",
   "mimetype": "text/x-python",
   "name": "python",
   "nbconvert_exporter": "python",
   "pygments_lexer": "ipython3",
   "version": "3.11.7"
  }
 },
 "nbformat": 4,
 "nbformat_minor": 2
}
