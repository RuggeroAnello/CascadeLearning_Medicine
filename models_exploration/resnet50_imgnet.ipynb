{
 "cells": [
  {
   "cell_type": "markdown",
   "metadata": {},
   "source": [
    "The ResNet-50 v 1.5 was pretrained on ImageNet-1k at a resolution of 224x224. <br>\n",
    "For more details see [Hugging Face | microsoft/resnet-50](https://huggingface.co/microsoft/resnet-50)"
   ]
  },
  {
   "cell_type": "code",
   "execution_count": 6,
   "metadata": {},
   "outputs": [],
   "source": [
    "from transformers import ResNetForImageClassification\n",
    "from torchinfo import summary"
   ]
  },
  {
   "cell_type": "code",
   "execution_count": 8,
   "metadata": {},
   "outputs": [
    {
     "name": "stdout",
     "output_type": "stream",
     "text": [
      "Model loaded successfully: ResNetForImageClassification\n"
     ]
    }
   ],
   "source": [
    "# Load the model\n",
    "model = ResNetForImageClassification.from_pretrained(\"microsoft/resnet-50\")\n",
    "model.eval()  # Set to evaluation mode\n",
    "\n",
    "# Print basic model info\n",
    "print(\"Model loaded successfully:\", model.__class__.__name__)"
   ]
  },
  {
   "cell_type": "code",
   "execution_count": null,
   "metadata": {},
   "outputs": [
    {
     "data": {
      "text/plain": [
       "===================================================================================================================\n",
       "Layer (type:depth-idx)                                            Output Shape              Param #\n",
       "===================================================================================================================\n",
       "ResNetForImageClassification                                      [1, 1000]                 --\n",
       "├─ResNetModel: 1-1                                                [1, 2048, 1, 1]           --\n",
       "│    └─ResNetEmbeddings: 2-1                                      [1, 64, 56, 56]           --\n",
       "│    │    └─ResNetConvLayer: 3-1                                  [1, 64, 112, 112]         9,536\n",
       "│    │    └─MaxPool2d: 3-2                                        [1, 64, 56, 56]           --\n",
       "│    └─ResNetEncoder: 2-2                                         [1, 2048, 7, 7]           --\n",
       "│    │    └─ModuleList: 3-3                                       --                        23,498,496\n",
       "│    └─AdaptiveAvgPool2d: 2-3                                     [1, 2048, 1, 1]           --\n",
       "├─Sequential: 1-2                                                 [1, 1000]                 --\n",
       "│    └─Flatten: 2-4                                               [1, 2048]                 --\n",
       "│    └─Linear: 2-5                                                [1, 1000]                 2,049,000\n",
       "===================================================================================================================\n",
       "Total params: 25,557,032\n",
       "Trainable params: 25,557,032\n",
       "Non-trainable params: 0\n",
       "Total mult-adds (Units.GIGABYTES): 4.09\n",
       "===================================================================================================================\n",
       "Input size (MB): 0.60\n",
       "Forward/backward pass size (MB): 177.83\n",
       "Params size (MB): 102.23\n",
       "Estimated Total Size (MB): 280.66\n",
       "==================================================================================================================="
      ]
     },
     "execution_count": 10,
     "metadata": {},
     "output_type": "execute_result"
    }
   ],
   "source": [
    "# Print model summary\n",
    "summary(model, input_size=(1, 3, 224, 224), device=\"cpu\")"
   ]
  }
 ],
 "metadata": {
  "kernelspec": {
   "display_name": ".venv",
   "language": "python",
   "name": "python3"
  },
  "language_info": {
   "codemirror_mode": {
    "name": "ipython",
    "version": 3
   },
   "file_extension": ".py",
   "mimetype": "text/x-python",
   "name": "python",
   "nbconvert_exporter": "python",
   "pygments_lexer": "ipython3",
   "version": "3.11.7"
  }
 },
 "nbformat": 4,
 "nbformat_minor": 2
}
