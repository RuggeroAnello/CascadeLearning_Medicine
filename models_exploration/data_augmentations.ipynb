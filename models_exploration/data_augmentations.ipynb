{
 "cells": [
  {
   "cell_type": "markdown",
   "metadata": {},
   "source": [
    "### Data Augmentation Methods for x-ray\n",
    "Paper:\n",
    "- [Deep Learning Approaches for Data Augmentation in Medical\n",
    "Imaging: A Review](https://www.mdpi.com/2313-433X/9/4/81)\n",
    "- [Medical image data augmentation: techniques, comparisons\n",
    "and interpretations](https://link.springer.com/article/10.1007/s10462-023-10453-z)"
   ]
  },
  {
   "cell_type": "markdown",
   "metadata": {},
   "source": [
    "Geometric augmentations:\n",
    "- Rotation\n",
    "  - Common range: [-15°, 15°]\n",
    "  - Additionally: multiples of 45°\n",
    "- Shift: x- or y-axis\n",
    "- Crop and zoom (potentially with interpolation to keep the resolution)\n",
    "- Crop with padding\n",
    "\n",
    "Methods that might introduce problems\n",
    "- Shearing: introduces distortion, which makes image unrealistic\n",
    "- Flips: changes the virtual perspective from which the image was taken (PA -> AP)"
   ]
  },
  {
   "cell_type": "markdown",
   "metadata": {},
   "source": [
    "Other Augmentations\n",
    "- Gaussian filter\n",
    "- Contrast\n",
    "- Brightness\n",
    "- Sharpening"
   ]
  },
  {
   "cell_type": "markdown",
   "metadata": {},
   "source": [
    "Possible extension\n",
    "- Deep generative models to generate realistic and diverse data that conform to the true distribution of the data\n",
    "- GAN based augmentation methods can increase diversity, but have vanishing gradient and mode collapsing problems\n",
    "- Augmentation only by shearing is the lest efficient approach\n",
    "- Combination of translation shearing and rotation worked very well for lung CT and breast mammography\n",
    "- Combination of color shifting with sharpening, and contrast changing provides higher performance in the classifications of eye fundus images"
   ]
  },
  {
   "cell_type": "code",
   "execution_count": 3,
   "metadata": {},
   "outputs": [],
   "source": [
    "import torch\n",
    "from torchvision import transforms\n",
    "\n",
    "# Define parameter dictionary\n",
    "params = {\n",
    "    'degree_range': (-15, 15),\n",
    "    'translate': (0.1, 0.2),\n",
    "    'scale': (0.2, 1.0),\n",
    "    'ratio': (0.75, 1.3333333333333333),\n",
    "    'gaussian_blur_kernel': 3,\n",
    "    'contrast': (0.75, 1.25),\n",
    "    'saturation': (0.75, 1.25),\n",
    "    'brightness': (0.75, 1.25)\n",
    "}\n",
    "\n",
    "# Compose transformations\n",
    "transform = transforms.Compose([\n",
    "    transforms.RandomRotation(params['degree_range']),\n",
    "    transforms.RandomAffine(degrees=params['degree_range'], translate=params['translate']),\n",
    "    transforms.RandomResizedCrop(size=(224, 224), scale=params['scale'], ratio=params['ratio']),\n",
    "    transforms.GaussianBlur(kernel_size=params['gaussian_blur_kernel']),\n",
    "    transforms.ColorJitter(brightness=params['brightness'], contrast=params['contrast'], saturation=params['saturation']),\n",
    "])\n"
   ]
  }
 ],
 "metadata": {
  "kernelspec": {
   "display_name": ".venv",
   "language": "python",
   "name": "python3"
  },
  "language_info": {
   "codemirror_mode": {
    "name": "ipython",
    "version": 3
   },
   "file_extension": ".py",
   "mimetype": "text/x-python",
   "name": "python",
   "nbconvert_exporter": "python",
   "pygments_lexer": "ipython3",
   "version": "3.11.7"
  }
 },
 "nbformat": 4,
 "nbformat_minor": 2
}
