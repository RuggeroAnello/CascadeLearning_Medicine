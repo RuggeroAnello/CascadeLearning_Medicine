{
 "cells": [
  {
   "cell_type": "markdown",
   "metadata": {
    "vscode": {
     "languageId": "plaintext"
    }
   },
   "source": [
    "# Create a test.csv from train.csv"
   ]
  },
  {
   "cell_type": "code",
   "execution_count": 1,
   "metadata": {},
   "outputs": [],
   "source": [
    "import pandas as pd\n",
    "import numpy as np\n",
    "import matplotlib.pyplot as plt\n",
    "import seaborn as sns\n",
    "import cv2\n",
    "import os\n",
    "from pathlib import Path"
   ]
  },
  {
   "cell_type": "code",
   "execution_count": 5,
   "metadata": {},
   "outputs": [
    {
     "name": "stderr",
     "output_type": "stream",
     "text": [
      "C:\\Users\\flobr\\AppData\\Local\\Temp\\ipykernel_20236\\622035383.py:10: DeprecationWarning: DataFrameGroupBy.apply operated on the grouping columns. This behavior is deprecated, and in a future version of pandas the grouping columns will be excluded from the operation. Either pass `include_groups=False` to exclude the groupings or explicitly select the grouping columns after groupby to silence this warning.\n",
      "  test_df = train_df.groupby(train_df.columns[22], group_keys=False).apply(lambda x: x.sample(frac=202/len(train_df)))\n"
     ]
    }
   ],
   "source": [
    "cwd_path = Path.cwd()\n",
    "path = cwd_path.parent.joinpath(\"data\")\n",
    "\n",
    "# Load the train.csv file\n",
    "train_df = pd.read_csv(os.path.join(path, 'train.csv'))\n",
    "train_ap = pd.read_csv(os.path.join(path, 'splitted', 'clean_AP_train.csv'))\n",
    "train_pa = pd.read_csv(os.path.join(path, 'splitted', 'clean_PA_train.csv'))\n",
    "\n",
    "# Sample 202 rows with the same distribution of column 22\n",
    "test_df = train_df.groupby(train_df.columns[22], group_keys=False).apply(lambda x: x.sample(frac=202/len(train_df)))\n",
    "\n",
    "# Remove the sampled rows from the original train_df\n",
    "train_new_df = train_df.drop(test_df.index)\n",
    "\n",
    "# Remove the sampled rows from train_ap and train_pa\n",
    "common_column = 'Path'\n",
    "sampled_paths = test_df[common_column].unique()\n",
    "train_ap_new = train_ap[~train_ap[common_column].isin(sampled_paths)]\n",
    "train_pa_new = train_pa[~train_pa[common_column].isin(sampled_paths)]\n",
    "\n",
    "\n",
    "\n",
    "# Save the new train and test dataframes to CSV files\n",
    "train_new_df.to_csv(os.path.join(path,'train_new.csv'), index=False)\n",
    "test_df.to_csv(os.path.join(path,'test_new.csv'), index=False)\n",
    "train_ap_new.to_csv(os.path.join(path, 'splitted', 'clean_AP_train_new.csv'), index=False)\n",
    "train_pa_new.to_csv(os.path.join(path, 'splitted', 'clean_PA_train_new.csv'), index=False)"
   ]
  }
 ],
 "metadata": {
  "kernelspec": {
   "display_name": "personalized_ml",
   "language": "python",
   "name": "python3"
  },
  "language_info": {
   "codemirror_mode": {
    "name": "ipython",
    "version": 3
   },
   "file_extension": ".py",
   "mimetype": "text/x-python",
   "name": "python",
   "nbconvert_exporter": "python",
   "pygments_lexer": "ipython3",
   "version": "3.12.7"
  }
 },
 "nbformat": 4,
 "nbformat_minor": 2
}
