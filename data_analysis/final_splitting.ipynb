{
 "cells": [
  {
   "cell_type": "markdown",
   "metadata": {
    "vscode": {
     "languageId": "plaintext"
    }
   },
   "source": [
    "# Create a test.csv from train.csv"
   ]
  },
  {
   "cell_type": "code",
   "execution_count": 1,
   "metadata": {},
   "outputs": [],
   "source": [
    "import pandas as pd\n",
    "import numpy as np\n",
    "import matplotlib.pyplot as plt\n",
    "import seaborn as sns\n",
    "import cv2\n",
    "import os\n",
    "from pathlib import Path"
   ]
  },
  {
   "cell_type": "code",
   "execution_count": 3,
   "metadata": {},
   "outputs": [
    {
     "name": "stdout",
     "output_type": "stream",
     "text": [
      "                                                Path     Sex  Age  \\\n",
      "0  CheXpert-v1.0-small/train/patient00001/study1/...  Female   68   \n",
      "1  CheXpert-v1.0-small/train/patient00002/study2/...  Female   87   \n",
      "2  CheXpert-v1.0-small/train/patient00002/study1/...  Female   83   \n",
      "3  CheXpert-v1.0-small/train/patient00002/study1/...  Female   83   \n",
      "4  CheXpert-v1.0-small/train/patient00003/study1/...    Male   41   \n",
      "\n",
      "  Frontal/Lateral AP/PA  No Finding  Enlarged Cardiomediastinum  Cardiomegaly  \\\n",
      "0         Frontal    AP         1.0                         NaN           NaN   \n",
      "1         Frontal    AP         NaN                         NaN          -1.0   \n",
      "2         Frontal    AP         NaN                         NaN           NaN   \n",
      "3         Lateral   NaN         NaN                         NaN           NaN   \n",
      "4         Frontal    AP         NaN                         NaN           NaN   \n",
      "\n",
      "   Lung Opacity  Lung Lesion  Edema  Consolidation  Pneumonia  Atelectasis  \\\n",
      "0           NaN          NaN    NaN            NaN        NaN          NaN   \n",
      "1           1.0          NaN   -1.0           -1.0        NaN         -1.0   \n",
      "2           1.0          NaN    NaN           -1.0        NaN          NaN   \n",
      "3           1.0          NaN    NaN           -1.0        NaN          NaN   \n",
      "4           NaN          NaN    1.0            NaN        NaN          NaN   \n",
      "\n",
      "   Pneumothorax  Pleural Effusion  Pleural Other  Fracture  Support Devices  \n",
      "0           0.0               NaN            NaN       NaN              1.0  \n",
      "1           NaN              -1.0            NaN       1.0              NaN  \n",
      "2           NaN               NaN            NaN       1.0              NaN  \n",
      "3           NaN               NaN            NaN       1.0              NaN  \n",
      "4           0.0               NaN            NaN       NaN              NaN  \n"
     ]
    }
   ],
   "source": [
    "# Load metadata\n",
    "\n",
    "cwd_path = Path.cwd()\n",
    "train_metadata_path = cwd_path.parent.joinpath(\"../image_data/CheXpert-v1.0-small/train.csv\")\n",
    "train_metadata = pd.read_csv(train_metadata_path)\n",
    "valid_metadata_path = cwd_path.parent.joinpath(\"../image_data/CheXpert-v1.0-small/valid.csv\")\n",
    "valid_metadata = pd.read_csv(valid_metadata_path)\n",
    "\n",
    "# Check the first few rows\n",
    "print(train_metadata.head())"
   ]
  },
  {
   "cell_type": "code",
   "execution_count": 4,
   "metadata": {},
   "outputs": [
    {
     "name": "stdout",
     "output_type": "stream",
     "text": [
      "                                                Path     Sex  Age  \\\n",
      "0  CheXpert-v1.0-small/valid/patient64541/study1/...    Male   73   \n",
      "1  CheXpert-v1.0-small/valid/patient64542/study1/...    Male   70   \n",
      "2  CheXpert-v1.0-small/valid/patient64542/study1/...    Male   70   \n",
      "3  CheXpert-v1.0-small/valid/patient64543/study1/...    Male   85   \n",
      "4  CheXpert-v1.0-small/valid/patient64544/study1/...  Female   42   \n",
      "\n",
      "  Frontal/Lateral AP/PA  No Finding  Enlarged Cardiomediastinum  Cardiomegaly  \\\n",
      "0         Frontal    AP         0.0                         1.0           1.0   \n",
      "1         Frontal    PA         0.0                         0.0           0.0   \n",
      "2         Lateral   NaN         0.0                         0.0           0.0   \n",
      "3         Frontal    AP         0.0                         1.0           0.0   \n",
      "4         Frontal    AP         1.0                         0.0           0.0   \n",
      "\n",
      "   Lung Opacity  Lung Lesion  Edema  Consolidation  Pneumonia  Atelectasis  \\\n",
      "0           1.0          0.0    0.0            0.0        0.0          0.0   \n",
      "1           0.0          0.0    0.0            0.0        0.0          0.0   \n",
      "2           0.0          0.0    0.0            0.0        0.0          0.0   \n",
      "3           1.0          0.0    1.0            0.0        0.0          0.0   \n",
      "4           0.0          0.0    0.0            0.0        0.0          0.0   \n",
      "\n",
      "   Pneumothorax  Pleural Effusion  Pleural Other  Fracture  Support Devices  \n",
      "0           0.0               0.0            0.0       0.0              0.0  \n",
      "1           0.0               0.0            0.0       0.0              1.0  \n",
      "2           0.0               0.0            0.0       0.0              1.0  \n",
      "3           0.0               0.0            0.0       0.0              0.0  \n",
      "4           0.0               0.0            0.0       0.0              0.0  \n"
     ]
    }
   ],
   "source": [
    "print(valid_metadata.head())"
   ]
  },
  {
   "cell_type": "code",
   "execution_count": 5,
   "metadata": {},
   "outputs": [
    {
     "name": "stdout",
     "output_type": "stream",
     "text": [
      "                                                Path     Sex  Age  \\\n",
      "0  CheXpert-v1.0-small/train/patient00001/study1/...  Female   68   \n",
      "1  CheXpert-v1.0-small/train/patient00002/study2/...  Female   87   \n",
      "2  CheXpert-v1.0-small/train/patient00002/study1/...  Female   83   \n",
      "3  CheXpert-v1.0-small/train/patient00002/study1/...  Female   83   \n",
      "4  CheXpert-v1.0-small/train/patient00003/study1/...    Male   41   \n",
      "\n",
      "  Frontal/Lateral AP/PA  No Finding  Enlarged Cardiomediastinum  Cardiomegaly  \\\n",
      "0         Frontal    AP         1.0                         NaN           NaN   \n",
      "1         Frontal    AP         NaN                         NaN          -1.0   \n",
      "2         Frontal    AP         NaN                         NaN           NaN   \n",
      "3         Lateral   NaN         NaN                         NaN           NaN   \n",
      "4         Frontal    AP         NaN                         NaN           NaN   \n",
      "\n",
      "   Lung Opacity  Lung Lesion  Edema  Consolidation  Pneumonia  Atelectasis  \\\n",
      "0           NaN          NaN    NaN            NaN        NaN          NaN   \n",
      "1           1.0          NaN   -1.0           -1.0        NaN         -1.0   \n",
      "2           1.0          NaN    NaN           -1.0        NaN          NaN   \n",
      "3           1.0          NaN    NaN           -1.0        NaN          NaN   \n",
      "4           NaN          NaN    1.0            NaN        NaN          NaN   \n",
      "\n",
      "   Pneumothorax  Pleural Effusion  Pleural Other  Fracture  Support Devices  \\\n",
      "0           0.0               NaN            NaN       NaN              1.0   \n",
      "1           NaN              -1.0            NaN       1.0              NaN   \n",
      "2           NaN               NaN            NaN       1.0              NaN   \n",
      "3           NaN               NaN            NaN       1.0              NaN   \n",
      "4           0.0               NaN            NaN       NaN              NaN   \n",
      "\n",
      "     Patient_ID  \n",
      "0  patient00001  \n",
      "1  patient00002  \n",
      "2  patient00002  \n",
      "3  patient00002  \n",
      "4  patient00003  \n"
     ]
    }
   ],
   "source": [
    "### \"Patient_ID\" could be useful in the future (if we decide to remove rows with missing values or w/e), so adding it as a column in metadata \n",
    "\n",
    "# Function to extract patient ID from the image path\n",
    "def extract_patient_id(path):\n",
    "    return path.split('/')[2]  # Adjust the index based on your path structure\n",
    "\n",
    "# Apply the function\n",
    "train_metadata['Patient_ID'] = train_metadata['Path'].apply(extract_patient_id)\n",
    "\n",
    "# Display the updated df\n",
    "print(train_metadata.head())"
   ]
  },
  {
   "cell_type": "code",
   "execution_count": 6,
   "metadata": {},
   "outputs": [],
   "source": [
    "# Removing the single 'Unknown' value in 'Sex' \n",
    "train_metadata = train_metadata[train_metadata['Sex'] != 'Unknown']"
   ]
  },
  {
   "cell_type": "code",
   "execution_count": 7,
   "metadata": {},
   "outputs": [],
   "source": [
    "# Define the columns to map NaN values to -1.0\n",
    "columns_to_map = [\n",
    "    \"No Finding\", \"Enlarged Cardiomediastinum\", \"Cardiomegaly\", \n",
    "    \"Lung Opacity\", \"Lung Lesion\", \"Edema\", \"Consolidation\", \n",
    "    \"Pneumonia\", \"Atelectasis\", \"Pneumothorax\", \"Pleural Effusion\", \n",
    "    \"Pleural Other\", \"Fracture\", \"Support Devices\"\n",
    "]\n",
    "\n",
    "# Use .loc[] to modify the original DataFrame\n",
    "train_metadata.loc[:, columns_to_map] = train_metadata[columns_to_map].fillna(-1.0)"
   ]
  },
  {
   "cell_type": "code",
   "execution_count": 27,
   "metadata": {},
   "outputs": [],
   "source": [
    "train_metadata['Sex_mapped'] = pd.factorize(train_metadata['Sex'])[0]\n",
    "train_metadata['Frontal/Lateral_mapped'] = pd.factorize(train_metadata['Frontal/Lateral'])[0]\n",
    "train_metadata['AP/PA_mapped'] = pd.factorize(train_metadata['AP/PA'])[0]"
   ]
  },
  {
   "cell_type": "code",
   "execution_count": 31,
   "metadata": {},
   "outputs": [],
   "source": [
    "valid_metadata['Sex_mapped'] = pd.factorize(valid_metadata['Sex'])[0]\n",
    "valid_metadata['Frontal/Lateral_mapped'] = pd.factorize(valid_metadata['Frontal/Lateral'])[0]\n",
    "valid_metadata['AP/PA_mapped'] = pd.factorize(valid_metadata['AP/PA'])[0]"
   ]
  },
  {
   "cell_type": "code",
   "execution_count": 28,
   "metadata": {},
   "outputs": [
    {
     "data": {
      "text/plain": [
       "Path                              0\n",
       "Sex                               0\n",
       "Age                               0\n",
       "Frontal/Lateral                   0\n",
       "AP/PA                         32387\n",
       "No Finding                        0\n",
       "Enlarged Cardiomediastinum        0\n",
       "Cardiomegaly                      0\n",
       "Lung Opacity                      0\n",
       "Lung Lesion                       0\n",
       "Edema                             0\n",
       "Consolidation                     0\n",
       "Pneumonia                         0\n",
       "Atelectasis                       0\n",
       "Pneumothorax                      0\n",
       "Pleural Effusion                  0\n",
       "Pleural Other                     0\n",
       "Fracture                          0\n",
       "Support Devices                   0\n",
       "Patient_ID                        0\n",
       "Sex_mapped                        0\n",
       "Frontal/Lateral_mapped            0\n",
       "AP/PA_mapped                      0\n",
       "dtype: int64"
      ]
     },
     "execution_count": 28,
     "metadata": {},
     "output_type": "execute_result"
    }
   ],
   "source": [
    "train_metadata.isna().sum()"
   ]
  },
  {
   "cell_type": "code",
   "execution_count": 32,
   "metadata": {},
   "outputs": [
    {
     "data": {
      "text/plain": [
       "Path                           0\n",
       "Sex                            0\n",
       "Age                            0\n",
       "Frontal/Lateral                0\n",
       "AP/PA                         32\n",
       "No Finding                     0\n",
       "Enlarged Cardiomediastinum     0\n",
       "Cardiomegaly                   0\n",
       "Lung Opacity                   0\n",
       "Lung Lesion                    0\n",
       "Edema                          0\n",
       "Consolidation                  0\n",
       "Pneumonia                      0\n",
       "Atelectasis                    0\n",
       "Pneumothorax                   0\n",
       "Pleural Effusion               0\n",
       "Pleural Other                  0\n",
       "Fracture                       0\n",
       "Support Devices                0\n",
       "Sex_mapped                     0\n",
       "Frontal/Lateral_mapped         0\n",
       "AP/PA_mapped                   0\n",
       "dtype: int64"
      ]
     },
     "execution_count": 32,
     "metadata": {},
     "output_type": "execute_result"
    }
   ],
   "source": [
    "valid_metadata.isna().sum()"
   ]
  },
  {
   "cell_type": "code",
   "execution_count": 33,
   "metadata": {},
   "outputs": [],
   "source": [
    "train_metadata_ap_pa = train_metadata[train_metadata['AP/PA'].isin(['AP', 'PA'])].reset_index(drop=True)\n",
    "valid_metadata_ap_pa = valid_metadata[valid_metadata['AP/PA'].isin(['AP/PA'])].reset_index(drop=True)"
   ]
  },
  {
   "cell_type": "code",
   "execution_count": 34,
   "metadata": {},
   "outputs": [
    {
     "data": {
      "text/plain": [
       "Path                          0\n",
       "Sex                           0\n",
       "Age                           0\n",
       "Frontal/Lateral               0\n",
       "AP/PA                         0\n",
       "No Finding                    0\n",
       "Enlarged Cardiomediastinum    0\n",
       "Cardiomegaly                  0\n",
       "Lung Opacity                  0\n",
       "Lung Lesion                   0\n",
       "Edema                         0\n",
       "Consolidation                 0\n",
       "Pneumonia                     0\n",
       "Atelectasis                   0\n",
       "Pneumothorax                  0\n",
       "Pleural Effusion              0\n",
       "Pleural Other                 0\n",
       "Fracture                      0\n",
       "Support Devices               0\n",
       "Patient_ID                    0\n",
       "Sex_mapped                    0\n",
       "Frontal/Lateral_mapped        0\n",
       "AP/PA_mapped                  0\n",
       "dtype: int64"
      ]
     },
     "execution_count": 34,
     "metadata": {},
     "output_type": "execute_result"
    }
   ],
   "source": [
    "train_metadata_ap_pa.isna().sum()"
   ]
  },
  {
   "cell_type": "code",
   "execution_count": 35,
   "metadata": {},
   "outputs": [
    {
     "data": {
      "text/plain": [
       "Path                          0\n",
       "Sex                           0\n",
       "Age                           0\n",
       "Frontal/Lateral               0\n",
       "AP/PA                         0\n",
       "No Finding                    0\n",
       "Enlarged Cardiomediastinum    0\n",
       "Cardiomegaly                  0\n",
       "Lung Opacity                  0\n",
       "Lung Lesion                   0\n",
       "Edema                         0\n",
       "Consolidation                 0\n",
       "Pneumonia                     0\n",
       "Atelectasis                   0\n",
       "Pneumothorax                  0\n",
       "Pleural Effusion              0\n",
       "Pleural Other                 0\n",
       "Fracture                      0\n",
       "Support Devices               0\n",
       "Sex_mapped                    0\n",
       "Frontal/Lateral_mapped        0\n",
       "AP/PA_mapped                  0\n",
       "dtype: int64"
      ]
     },
     "execution_count": 35,
     "metadata": {},
     "output_type": "execute_result"
    }
   ],
   "source": [
    "valid_metadata_ap_pa.isna().sum()"
   ]
  },
  {
   "cell_type": "code",
   "execution_count": 38,
   "metadata": {},
   "outputs": [
    {
     "data": {
      "text/plain": [
       "AP/PA_mapped\n",
       "0    161590\n",
       "1     29419\n",
       "Name: count, dtype: int64"
      ]
     },
     "execution_count": 38,
     "metadata": {},
     "output_type": "execute_result"
    }
   ],
   "source": [
    "train_metadata_ap_pa['AP/PA_mapped'].value_counts()"
   ]
  },
  {
   "cell_type": "code",
   "execution_count": 39,
   "metadata": {},
   "outputs": [
    {
     "name": "stdout",
     "output_type": "stream",
     "text": [
      "Datasets have been saved.\n"
     ]
    }
   ],
   "source": [
    "## Split and create two .csv for the training of the segments \n",
    "\n",
    "train_metadata_ap = train_metadata_ap_pa[train_metadata_ap_pa['AP/PA'] == 'AP']\n",
    "train_metadata_pa = train_metadata_ap_pa[train_metadata_ap_pa['AP/PA'] == 'PA']\n",
    "valid_metadata_ap = valid_metadata_ap_pa[valid_metadata_ap_pa['AP/PA'] == 'AP']\n",
    "valid_metadata_pa = valid_metadata_ap_pa[valid_metadata_ap_pa['AP/PA'] == 'PA']\n",
    "train_metadata_fr = train_metadata[train_metadata['Frontal/Lateral'] == 'Frontal']\n",
    "train_metadata_lat = train_metadata[train_metadata['Frontal/Lateral'] == 'Lateral']\n",
    "valid_metadata_fr = valid_metadata[valid_metadata['Frontal/Lateral'] == 'Frontal']\n",
    "valid_metadata_lat = valid_metadata[valid_metadata['Frontal/Lateral'] == 'Lateral']\n",
    "\n",
    "\n",
    "# Define the path \n",
    "output_dir = os.path.join(cwd_path.parent, 'data', 'splitted')\n",
    "\n",
    "# Create the 'splitted' directory\n",
    "os.makedirs(output_dir, exist_ok=True)\n",
    "\n",
    "# Save these subsets to CSVs\n",
    "train_metadata.to_csv(os.path.join(output_dir, 'train.csv'), index=False)\n",
    "valid_metadata.to_csv(os.path.join(output_dir, 'valid.csv'), index=False)\n",
    "train_metadata_ap.to_csv(os.path.join(output_dir, 'ap_train.csv'), index=False)\n",
    "train_metadata_pa.to_csv(os.path.join(output_dir, 'pa_train.csv'), index=False)\n",
    "valid_metadata_ap.to_csv(os.path.join(output_dir, 'ap_valid.csv'), index=False)\n",
    "valid_metadata_pa.to_csv(os.path.join(output_dir, 'pa_valid.csv'), index=False)\n",
    "train_metadata_fr.to_csv(os.path.join(output_dir, 'fr_train.csv'), index=False)\n",
    "train_metadata_lat.to_csv(os.path.join(output_dir, 'lat_train.csv'), index=False)\n",
    "valid_metadata_fr.to_csv(os.path.join(output_dir, 'fr_valid.csv'), index=False)\n",
    "valid_metadata_lat.to_csv(os.path.join(output_dir, 'lat_valid.csv'), index=False)\n",
    "\n",
    "\n",
    "print(\"Datasets have been saved.\")"
   ]
  },
  {
   "cell_type": "code",
   "execution_count": 40,
   "metadata": {},
   "outputs": [],
   "source": [
    "#TODO Preprocess test set and add it "
   ]
  },
  {
   "cell_type": "code",
   "execution_count": null,
   "metadata": {},
   "outputs": [],
   "source": []
  }
 ],
 "metadata": {
  "kernelspec": {
   "display_name": "personalized_ml",
   "language": "python",
   "name": "python3"
  },
  "language_info": {
   "codemirror_mode": {
    "name": "ipython",
    "version": 3
   },
   "file_extension": ".py",
   "mimetype": "text/x-python",
   "name": "python",
   "nbconvert_exporter": "python",
   "pygments_lexer": "ipython3",
   "version": "3.12.7"
  }
 },
 "nbformat": 4,
 "nbformat_minor": 2
}
