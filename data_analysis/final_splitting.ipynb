{
 "cells": [
  {
   "cell_type": "markdown",
   "metadata": {
    "vscode": {
     "languageId": "plaintext"
    }
   },
   "source": [
    "# Create a test.csv from train.csv"
   ]
  },
  {
   "cell_type": "code",
   "execution_count": 19,
   "metadata": {},
   "outputs": [],
   "source": [
    "import pandas as pd\n",
    "import numpy as np\n",
    "import matplotlib.pyplot as plt\n",
    "import seaborn as sns\n",
    "import os\n",
    "import cv2\n",
    "import os\n",
    "from pathlib import Path\n",
    "from sklearn.model_selection import train_test_split\n"
   ]
  },
  {
   "cell_type": "markdown",
   "metadata": {},
   "source": [
    "#### Data Preprocessing"
   ]
  },
  {
   "cell_type": "code",
   "execution_count": 20,
   "metadata": {},
   "outputs": [],
   "source": [
    "cwd_path = Path.cwd()\n",
    "metadata_path = cwd_path.parent.joinpath(\"../image_data/CheXpert-v1.0-small/train.csv\")\n",
    "metadata = pd.read_csv(metadata_path)\n",
    "\n",
    "# Removing the single 'Unknown' value in 'Sex' \n",
    "metadata = metadata[metadata['Sex'] != 'Unknown']"
   ]
  },
  {
   "cell_type": "code",
   "execution_count": 21,
   "metadata": {},
   "outputs": [],
   "source": [
    "# Define the columns to map NaN values to -1.0\n",
    "columns_to_map = [\n",
    "    \"No Finding\", \"Enlarged Cardiomediastinum\", \"Cardiomegaly\", \n",
    "    \"Lung Opacity\", \"Lung Lesion\", \"Edema\", \"Consolidation\", \n",
    "    \"Pneumonia\", \"Atelectasis\", \"Pneumothorax\", \"Pleural Effusion\", \n",
    "    \"Pleural Other\", \"Fracture\", \"Support Devices\"\n",
    "]\n",
    "\n",
    "# Use .loc[] to modify the original DataFrame\n",
    "metadata.loc[:, columns_to_map] = metadata[columns_to_map].fillna(-1.0)"
   ]
  },
  {
   "cell_type": "code",
   "execution_count": 22,
   "metadata": {},
   "outputs": [],
   "source": [
    "metadata['Sex_mapped'] = pd.factorize(metadata['Sex'])[0]\n",
    "metadata['Frontal/Lateral_mapped'] = pd.factorize(metadata['Frontal/Lateral'])[0]\n",
    "metadata['AP/PA_mapped'] = pd.factorize(metadata['AP/PA'])[0]"
   ]
  },
  {
   "cell_type": "code",
   "execution_count": 23,
   "metadata": {},
   "outputs": [
    {
     "data": {
      "text/plain": [
       "Path                              0\n",
       "Sex                               0\n",
       "Age                               0\n",
       "Frontal/Lateral                   0\n",
       "AP/PA                         32387\n",
       "No Finding                        0\n",
       "Enlarged Cardiomediastinum        0\n",
       "Cardiomegaly                      0\n",
       "Lung Opacity                      0\n",
       "Lung Lesion                       0\n",
       "Edema                             0\n",
       "Consolidation                     0\n",
       "Pneumonia                         0\n",
       "Atelectasis                       0\n",
       "Pneumothorax                      0\n",
       "Pleural Effusion                  0\n",
       "Pleural Other                     0\n",
       "Fracture                          0\n",
       "Support Devices                   0\n",
       "Sex_mapped                        0\n",
       "Frontal/Lateral_mapped            0\n",
       "AP/PA_mapped                      0\n",
       "dtype: int64"
      ]
     },
     "execution_count": 23,
     "metadata": {},
     "output_type": "execute_result"
    }
   ],
   "source": [
    "metadata.isna().sum()\n",
    "\n",
    "# AP/PA is NULL when Frontal/Lateral is Lateral"
   ]
  },
  {
   "cell_type": "code",
   "execution_count": 27,
   "metadata": {},
   "outputs": [],
   "source": [
    "# Step 1: Perform a 95/5 Train-Val Split\n",
    "train_df, valid_df = train_test_split(\n",
    "    metadata, \n",
    "    test_size=0.05, \n",
    "    random_state=42, \n",
    "    shuffle=True)\n"
   ]
  },
  {
   "cell_type": "code",
   "execution_count": 28,
   "metadata": {},
   "outputs": [],
   "source": [
    "train_df_ap_pa = train_df[train_df['AP/PA'].isin(['AP', 'PA'])].reset_index(drop=True)\n",
    "valid_df_ap_pa = valid_df[valid_df['AP/PA'].isin(['AP','PA'])].reset_index(drop=True)"
   ]
  },
  {
   "cell_type": "code",
   "execution_count": 29,
   "metadata": {},
   "outputs": [
    {
     "data": {
      "text/plain": [
       "Path                          0\n",
       "Sex                           0\n",
       "Age                           0\n",
       "Frontal/Lateral               0\n",
       "AP/PA                         0\n",
       "No Finding                    0\n",
       "Enlarged Cardiomediastinum    0\n",
       "Cardiomegaly                  0\n",
       "Lung Opacity                  0\n",
       "Lung Lesion                   0\n",
       "Edema                         0\n",
       "Consolidation                 0\n",
       "Pneumonia                     0\n",
       "Atelectasis                   0\n",
       "Pneumothorax                  0\n",
       "Pleural Effusion              0\n",
       "Pleural Other                 0\n",
       "Fracture                      0\n",
       "Support Devices               0\n",
       "Sex_mapped                    0\n",
       "Frontal/Lateral_mapped        0\n",
       "AP/PA_mapped                  0\n",
       "dtype: int64"
      ]
     },
     "execution_count": 29,
     "metadata": {},
     "output_type": "execute_result"
    }
   ],
   "source": [
    "train_df_ap_pa.isna().sum()"
   ]
  },
  {
   "cell_type": "code",
   "execution_count": 30,
   "metadata": {},
   "outputs": [
    {
     "data": {
      "text/plain": [
       "Path                          0\n",
       "Sex                           0\n",
       "Age                           0\n",
       "Frontal/Lateral               0\n",
       "AP/PA                         0\n",
       "No Finding                    0\n",
       "Enlarged Cardiomediastinum    0\n",
       "Cardiomegaly                  0\n",
       "Lung Opacity                  0\n",
       "Lung Lesion                   0\n",
       "Edema                         0\n",
       "Consolidation                 0\n",
       "Pneumonia                     0\n",
       "Atelectasis                   0\n",
       "Pneumothorax                  0\n",
       "Pleural Effusion              0\n",
       "Pleural Other                 0\n",
       "Fracture                      0\n",
       "Support Devices               0\n",
       "Sex_mapped                    0\n",
       "Frontal/Lateral_mapped        0\n",
       "AP/PA_mapped                  0\n",
       "dtype: int64"
      ]
     },
     "execution_count": 30,
     "metadata": {},
     "output_type": "execute_result"
    }
   ],
   "source": [
    "valid_df_ap_pa.isna().sum()"
   ]
  },
  {
   "cell_type": "code",
   "execution_count": 31,
   "metadata": {},
   "outputs": [],
   "source": [
    "## Split and create .csv for the training of the segments \n",
    "\n",
    "train_df_ap = train_df_ap_pa[train_df_ap_pa['AP/PA'] == 'AP']\n",
    "train_df_pa = train_df_ap_pa[train_df_ap_pa['AP/PA'] == 'PA']\n",
    "valid_df_ap = valid_df_ap_pa[valid_df_ap_pa['AP/PA'] == 'AP']\n",
    "valid_df_pa = valid_df_ap_pa[valid_df_ap_pa['AP/PA'] == 'PA']\n",
    "train_df_fr = train_df[train_df['Frontal/Lateral'] == 'Frontal']\n",
    "train_df_lat = train_df[train_df['Frontal/Lateral'] == 'Lateral']\n",
    "valid_df_fr = valid_df[valid_df['Frontal/Lateral'] == 'Frontal']\n",
    "valid_df_lat = valid_df[valid_df['Frontal/Lateral'] == 'Lateral']"
   ]
  },
  {
   "cell_type": "code",
   "execution_count": 35,
   "metadata": {},
   "outputs": [
    {
     "data": {
      "text/plain": [
       "Cardiomegaly\n",
       "-1.0    1272\n",
       " 1.0     174\n",
       " 0.0     138\n",
       "Name: count, dtype: int64"
      ]
     },
     "execution_count": 35,
     "metadata": {},
     "output_type": "execute_result"
    }
   ],
   "source": [
    "## Let's see if valid df_lat and valid_df_pa are representative enough for our 5 labels of interest\n",
    "\n",
    "valid_df_lat['Cardiomegaly'].value_counts()"
   ]
  },
  {
   "cell_type": "code",
   "execution_count": 36,
   "metadata": {},
   "outputs": [
    {
     "data": {
      "text/plain": [
       "Consolidation\n",
       "-1.0    1069\n",
       " 0.0     418\n",
       " 1.0      97\n",
       "Name: count, dtype: int64"
      ]
     },
     "execution_count": 36,
     "metadata": {},
     "output_type": "execute_result"
    }
   ],
   "source": [
    "valid_df_lat['Consolidation'].value_counts()"
   ]
  },
  {
   "cell_type": "code",
   "execution_count": 37,
   "metadata": {},
   "outputs": [
    {
     "data": {
      "text/plain": [
       "Pleural Effusion\n",
       "-1.0    629\n",
       " 0.0    505\n",
       " 1.0    450\n",
       "Name: count, dtype: int64"
      ]
     },
     "execution_count": 37,
     "metadata": {},
     "output_type": "execute_result"
    }
   ],
   "source": [
    "valid_df_lat['Pleural Effusion'].value_counts()"
   ]
  },
  {
   "cell_type": "code",
   "execution_count": 38,
   "metadata": {},
   "outputs": [
    {
     "data": {
      "text/plain": [
       "Edema\n",
       "-1.0    1219\n",
       " 0.0     248\n",
       " 1.0     117\n",
       "Name: count, dtype: int64"
      ]
     },
     "execution_count": 38,
     "metadata": {},
     "output_type": "execute_result"
    }
   ],
   "source": [
    "valid_df_lat['Edema'].value_counts()"
   ]
  },
  {
   "cell_type": "code",
   "execution_count": 39,
   "metadata": {},
   "outputs": [
    {
     "data": {
      "text/plain": [
       "Atelectasis\n",
       "-1.0    1404\n",
       " 1.0     166\n",
       " 0.0      14\n",
       "Name: count, dtype: int64"
      ]
     },
     "execution_count": 39,
     "metadata": {},
     "output_type": "execute_result"
    }
   ],
   "source": [
    "valid_df_lat['Atelectasis'].value_counts()"
   ]
  },
  {
   "cell_type": "code",
   "execution_count": 34,
   "metadata": {},
   "outputs": [
    {
     "data": {
      "text/plain": [
       "Cardiomegaly\n",
       "-1.0    1142\n",
       " 0.0     142\n",
       " 1.0     140\n",
       "Name: count, dtype: int64"
      ]
     },
     "execution_count": 34,
     "metadata": {},
     "output_type": "execute_result"
    }
   ],
   "source": [
    "valid_df_pa['Cardiomegaly'].value_counts()"
   ]
  },
  {
   "cell_type": "code",
   "execution_count": 40,
   "metadata": {},
   "outputs": [
    {
     "data": {
      "text/plain": [
       "Consolidation\n",
       "-1.0    989\n",
       " 0.0    355\n",
       " 1.0     80\n",
       "Name: count, dtype: int64"
      ]
     },
     "execution_count": 40,
     "metadata": {},
     "output_type": "execute_result"
    }
   ],
   "source": [
    "valid_df_pa['Consolidation'].value_counts()"
   ]
  },
  {
   "cell_type": "code",
   "execution_count": 41,
   "metadata": {},
   "outputs": [
    {
     "data": {
      "text/plain": [
       "Pleural Effusion\n",
       "-1.0    546\n",
       " 0.0    452\n",
       " 1.0    426\n",
       "Name: count, dtype: int64"
      ]
     },
     "execution_count": 41,
     "metadata": {},
     "output_type": "execute_result"
    }
   ],
   "source": [
    "valid_df_pa['Pleural Effusion'].value_counts()"
   ]
  },
  {
   "cell_type": "code",
   "execution_count": 42,
   "metadata": {},
   "outputs": [
    {
     "data": {
      "text/plain": [
       "Edema\n",
       "-1.0    1156\n",
       " 0.0     195\n",
       " 1.0      73\n",
       "Name: count, dtype: int64"
      ]
     },
     "execution_count": 42,
     "metadata": {},
     "output_type": "execute_result"
    }
   ],
   "source": [
    "valid_df_pa['Edema'].value_counts()"
   ]
  },
  {
   "cell_type": "code",
   "execution_count": 43,
   "metadata": {},
   "outputs": [
    {
     "data": {
      "text/plain": [
       "Atelectasis\n",
       "-1.0    1263\n",
       " 1.0     144\n",
       " 0.0      17\n",
       "Name: count, dtype: int64"
      ]
     },
     "execution_count": 43,
     "metadata": {},
     "output_type": "execute_result"
    }
   ],
   "source": [
    "valid_df_pa['Atelectasis'].value_counts()"
   ]
  },
  {
   "cell_type": "code",
   "execution_count": 44,
   "metadata": {},
   "outputs": [
    {
     "name": "stdout",
     "output_type": "stream",
     "text": [
      "Datasets have been saved.\n"
     ]
    }
   ],
   "source": [
    "# Define the path \n",
    "output_dir = os.path.join(cwd_path.parent, 'data', 'splitted')\n",
    "\n",
    "# Create the 'splitted' directory\n",
    "os.makedirs(output_dir, exist_ok=True)\n",
    "\n",
    "# Save these subsets to CSVs\n",
    "train_df.to_csv(os.path.join(output_dir, 'train.csv'), index=False)\n",
    "valid_df.to_csv(os.path.join(output_dir, 'valid.csv'), index=False)\n",
    "train_df_ap.to_csv(os.path.join(output_dir, 'ap_train.csv'), index=False)\n",
    "train_df_pa.to_csv(os.path.join(output_dir, 'pa_train.csv'), index=False)\n",
    "valid_df_ap.to_csv(os.path.join(output_dir, 'ap_valid.csv'), index=False)\n",
    "valid_df_pa.to_csv(os.path.join(output_dir, 'pa_valid.csv'), index=False)\n",
    "train_df_fr.to_csv(os.path.join(output_dir, 'fr_train.csv'), index=False)\n",
    "train_df_lat.to_csv(os.path.join(output_dir, 'lat_train.csv'), index=False)\n",
    "valid_df_fr.to_csv(os.path.join(output_dir, 'fr_valid.csv'), index=False)\n",
    "valid_df_lat.to_csv(os.path.join(output_dir, 'lat_valid.csv'), index=False)\n",
    "\n",
    "\n",
    "print(\"Datasets have been saved.\")"
   ]
  },
  {
   "cell_type": "code",
   "execution_count": 15,
   "metadata": {},
   "outputs": [],
   "source": [
    "#TODO Preprocess test set and add it "
   ]
  }
 ],
 "metadata": {
  "kernelspec": {
   "display_name": "personalized_ml",
   "language": "python",
   "name": "python3"
  },
  "language_info": {
   "codemirror_mode": {
    "name": "ipython",
    "version": 3
   },
   "file_extension": ".py",
   "mimetype": "text/x-python",
   "name": "python",
   "nbconvert_exporter": "python",
   "pygments_lexer": "ipython3",
   "version": "3.12.7"
  }
 },
 "nbformat": 4,
 "nbformat_minor": 2
}
