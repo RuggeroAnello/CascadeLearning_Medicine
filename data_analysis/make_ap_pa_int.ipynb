{
 "cells": [
  {
   "cell_type": "code",
   "execution_count": 1,
   "metadata": {},
   "outputs": [],
   "source": [
    "import matplotlib.pyplot as plt\n",
    "from pathlib import Path\n",
    "import seaborn as sns\n",
    "import pandas as pd\n",
    "import numpy as np\n",
    "import cv2\n",
    "import os"
   ]
  },
  {
   "cell_type": "code",
   "execution_count": 12,
   "metadata": {},
   "outputs": [
    {
     "name": "stdout",
     "output_type": "stream",
     "text": [
      "Train metadata\n",
      "                                                Path     Sex  Age  \\\n",
      "0  CheXpert-v1.0-small/train/patient00001/study1/...  Female   68   \n",
      "1  CheXpert-v1.0-small/train/patient00002/study2/...  Female   87   \n",
      "2  CheXpert-v1.0-small/train/patient00002/study1/...  Female   83   \n",
      "3  CheXpert-v1.0-small/train/patient00003/study1/...    Male   41   \n",
      "4  CheXpert-v1.0-small/train/patient00004/study1/...  Female   20   \n",
      "\n",
      "  Frontal/Lateral AP/PA  No Finding  Enlarged Cardiomediastinum  Cardiomegaly  \\\n",
      "0         Frontal    AP         1.0                        -1.0          -1.0   \n",
      "1         Frontal    AP        -1.0                        -1.0          -1.0   \n",
      "2         Frontal    AP        -1.0                        -1.0          -1.0   \n",
      "3         Frontal    AP        -1.0                        -1.0          -1.0   \n",
      "4         Frontal    PA         1.0                         0.0          -1.0   \n",
      "\n",
      "   Lung Opacity  Lung Lesion  ...  Atelectasis  Pneumothorax  \\\n",
      "0          -1.0         -1.0  ...         -1.0           0.0   \n",
      "1           1.0         -1.0  ...         -1.0          -1.0   \n",
      "2           1.0         -1.0  ...         -1.0          -1.0   \n",
      "3          -1.0         -1.0  ...         -1.0           0.0   \n",
      "4          -1.0         -1.0  ...         -1.0          -1.0   \n",
      "\n",
      "   Pleural Effusion  Pleural Other  Fracture  Support Devices    Patient_ID  \\\n",
      "0              -1.0           -1.0      -1.0              1.0  patient00001   \n",
      "1              -1.0           -1.0       1.0             -1.0  patient00002   \n",
      "2              -1.0           -1.0       1.0             -1.0  patient00002   \n",
      "3              -1.0           -1.0      -1.0             -1.0  patient00003   \n",
      "4               0.0           -1.0      -1.0             -1.0  patient00004   \n",
      "\n",
      "   Sex_mapped  Frontal/Lateral_mapped AP/PA_mapped  \n",
      "0           0                       0            0  \n",
      "1           0                       0            0  \n",
      "2           0                       0            0  \n",
      "3           1                       0            0  \n",
      "4           0                       0            1  \n",
      "\n",
      "[5 rows x 23 columns]\n",
      "Valid metadata\n",
      "                                                Path     Sex  Age  \\\n",
      "0  CheXpert-v1.0-small/valid/patient64541/study1/...    Male   73   \n",
      "1  CheXpert-v1.0-small/valid/patient64542/study1/...    Male   70   \n",
      "2  CheXpert-v1.0-small/valid/patient64542/study1/...    Male   70   \n",
      "3  CheXpert-v1.0-small/valid/patient64543/study1/...    Male   85   \n",
      "4  CheXpert-v1.0-small/valid/patient64544/study1/...  Female   42   \n",
      "\n",
      "  Frontal/Lateral AP/PA  No Finding  Enlarged Cardiomediastinum  Cardiomegaly  \\\n",
      "0         Frontal    AP         0.0                         1.0           1.0   \n",
      "1         Frontal    PA         0.0                         0.0           0.0   \n",
      "2         Lateral   NaN         0.0                         0.0           0.0   \n",
      "3         Frontal    AP         0.0                         1.0           0.0   \n",
      "4         Frontal    AP         1.0                         0.0           0.0   \n",
      "\n",
      "   Lung Opacity  Lung Lesion  Edema  Consolidation  Pneumonia  Atelectasis  \\\n",
      "0           1.0          0.0    0.0            0.0        0.0          0.0   \n",
      "1           0.0          0.0    0.0            0.0        0.0          0.0   \n",
      "2           0.0          0.0    0.0            0.0        0.0          0.0   \n",
      "3           1.0          0.0    1.0            0.0        0.0          0.0   \n",
      "4           0.0          0.0    0.0            0.0        0.0          0.0   \n",
      "\n",
      "   Pneumothorax  Pleural Effusion  Pleural Other  Fracture  Support Devices  \n",
      "0           0.0               0.0            0.0       0.0              0.0  \n",
      "1           0.0               0.0            0.0       0.0              1.0  \n",
      "2           0.0               0.0            0.0       0.0              1.0  \n",
      "3           0.0               0.0            0.0       0.0              0.0  \n",
      "4           0.0               0.0            0.0       0.0              0.0  \n"
     ]
    }
   ],
   "source": [
    "# Load metadata\n",
    "# data_path = Path.cwd().parent.parent.joinpath(\"image_data/CheXpert-v1.0-small\")\n",
    "data_path = Path.cwd().parent.joinpath(\"data\")\n",
    "train_metadata_path = data_path.joinpath(\"train.csv\")\n",
    "valid_metadata_path = data_path.joinpath(\"valid.csv\")\n",
    "train_metadata = pd.read_csv(train_metadata_path)\n",
    "valid_metadata = pd.read_csv(valid_metadata_path)\n",
    "\n",
    "\n",
    "# Check the first few rows\n",
    "print(\"Train metadata\")\n",
    "print(train_metadata.head())\n",
    "\n",
    "print(\"Valid metadata\")\n",
    "print(valid_metadata.head())"
   ]
  },
  {
   "cell_type": "code",
   "execution_count": 13,
   "metadata": {},
   "outputs": [
    {
     "name": "stdout",
     "output_type": "stream",
     "text": [
      "Index(['Path', 'Sex', 'Age', 'Frontal/Lateral', 'AP/PA', 'No Finding',\n",
      "       'Enlarged Cardiomediastinum', 'Cardiomegaly', 'Lung Opacity',\n",
      "       'Lung Lesion', 'Edema', 'Consolidation', 'Pneumonia', 'Atelectasis',\n",
      "       'Pneumothorax', 'Pleural Effusion', 'Pleural Other', 'Fracture',\n",
      "       'Support Devices', 'Patient_ID', 'Sex_mapped', 'Frontal/Lateral_mapped',\n",
      "       'AP/PA_mapped'],\n",
      "      dtype='object')\n",
      "Index(['Path', 'Sex', 'Age', 'Frontal/Lateral', 'AP/PA', 'No Finding',\n",
      "       'Enlarged Cardiomediastinum', 'Cardiomegaly', 'Lung Opacity',\n",
      "       'Lung Lesion', 'Edema', 'Consolidation', 'Pneumonia', 'Atelectasis',\n",
      "       'Pneumothorax', 'Pleural Effusion', 'Pleural Other', 'Fracture',\n",
      "       'Support Devices'],\n",
      "      dtype='object')\n"
     ]
    }
   ],
   "source": [
    "print(train_metadata.columns)\n",
    "print(valid_metadata.columns)"
   ]
  },
  {
   "cell_type": "code",
   "execution_count": 15,
   "metadata": {},
   "outputs": [
    {
     "name": "stdout",
     "output_type": "stream",
     "text": [
      "AP/PA\n",
      "AP    161590\n",
      "PA     29419\n",
      "Name: count, dtype: int64\n",
      "AP/PA\n",
      "AP    169\n",
      "PA     33\n",
      "Name: count, dtype: int64\n"
     ]
    }
   ],
   "source": [
    "print(train_metadata['AP/PA'].value_counts())\n",
    "print(valid_metadata['AP/PA'].value_counts())"
   ]
  },
  {
   "cell_type": "code",
   "execution_count": 18,
   "metadata": {},
   "outputs": [],
   "source": [
    "train_metadata['AP/PA'] = train_metadata['AP/PA'].replace({'AP': int(0), 'PA': int(1)})\n",
    "valid_metadata['AP/PA'] = valid_metadata['AP/PA'].replace({'AP': int(0), 'PA': int(1)})"
   ]
  },
  {
   "cell_type": "code",
   "execution_count": 19,
   "metadata": {},
   "outputs": [
    {
     "name": "stdout",
     "output_type": "stream",
     "text": [
      "AP/PA\n",
      "0    161590\n",
      "1     29419\n",
      "Name: count, dtype: int64\n",
      "AP/PA\n",
      "0.0    169\n",
      "1.0     33\n",
      "Name: count, dtype: int64\n"
     ]
    }
   ],
   "source": [
    "print(train_metadata['AP/PA'].value_counts())\n",
    "print(valid_metadata['AP/PA'].value_counts())"
   ]
  },
  {
   "cell_type": "code",
   "execution_count": 20,
   "metadata": {},
   "outputs": [],
   "source": [
    "train_metadata.to_csv(data_path.joinpath(\"train_ap_pa_int.csv\"), index=False)\n",
    "valid_metadata.to_csv(data_path.joinpath(\"valid_ap_pa_int.csv\"), index=False)"
   ]
  },
  {
   "cell_type": "code",
   "execution_count": 21,
   "metadata": {},
   "outputs": [
    {
     "name": "stdout",
     "output_type": "stream",
     "text": [
      "AP/PA\n",
      "0    161590\n",
      "1     29419\n",
      "Name: count, dtype: int64\n",
      "AP/PA\n",
      "0.0    169\n",
      "1.0     33\n",
      "Name: count, dtype: int64\n"
     ]
    }
   ],
   "source": [
    "new_train_metadata_path = data_path.joinpath(\"train_ap_pa_int.csv\")\n",
    "new_valid_metadata_path = data_path.joinpath(\"valid_ap_pa_int.csv\")\n",
    "\n",
    "new_train_metadata = pd.read_csv(new_train_metadata_path)\n",
    "new_valid_metadata = pd.read_csv(new_valid_metadata_path)\n",
    "\n",
    "print(new_train_metadata['AP/PA'].value_counts())\n",
    "print(new_valid_metadata['AP/PA'].value_counts())"
   ]
  }
 ],
 "metadata": {
  "kernelspec": {
   "display_name": ".venv",
   "language": "python",
   "name": "python3"
  },
  "language_info": {
   "codemirror_mode": {
    "name": "ipython",
    "version": 3
   },
   "file_extension": ".py",
   "mimetype": "text/x-python",
   "name": "python",
   "nbconvert_exporter": "python",
   "pygments_lexer": "ipython3",
   "version": "3.11.7"
  }
 },
 "nbformat": 4,
 "nbformat_minor": 2
}
