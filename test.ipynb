{
 "cells": [
  {
   "cell_type": "code",
   "execution_count": 5,
   "metadata": {},
   "outputs": [],
   "source": [
    "from data.dataset import CheXpertDataset\n",
    "dataset = CheXpertDataset(\n",
    "    csv_file=\"./data/valid.csv\",\n",
    "    root_dir=\"../image_data/\",\n",
    ")"
   ]
  },
  {
   "cell_type": "code",
   "execution_count": 6,
   "metadata": {},
   "outputs": [
    {
     "name": "stdout",
     "output_type": "stream",
     "text": [
      "{'image': '../image_data/CheXpert-v1.0-small/valid/patient64541/study1/view1_frontal.jpg', 'sex': 'Male', 'age': np.int64(73), 'frontal/lateral': 'Frontal', 'ap/pa': 'AP', 'no_finding': np.float64(0.0), 'enlarged_cardiomediastinum': np.float64(1.0), 'cardiomegaly': np.float64(1.0), 'lung_opacity': np.float64(1.0), 'lung_lesion': np.float64(0.0), 'edema': np.float64(0.0), 'consolidation': np.float64(0.0), 'pneumonia': np.float64(0.0), 'atelectasis': np.float64(0.0), 'pneumothorax': np.float64(0.0), 'pleural_effusion': np.float64(0.0), 'pleural_other': np.float64(0.0), 'fracture': np.float64(0.0), 'support_devices': np.float64(0.0)}\n"
     ]
    }
   ],
   "source": [
    "test = dataset.__getitem__(0)\n",
    "print(test)"
   ]
  }
 ],
 "metadata": {
  "kernelspec": {
   "display_name": "personalized_ml",
   "language": "python",
   "name": "python3"
  },
  "language_info": {
   "codemirror_mode": {
    "name": "ipython",
    "version": 3
   },
   "file_extension": ".py",
   "mimetype": "text/x-python",
   "name": "python",
   "nbconvert_exporter": "python",
   "pygments_lexer": "ipython3",
   "version": "3.12.7"
  }
 },
 "nbformat": 4,
 "nbformat_minor": 2
}
